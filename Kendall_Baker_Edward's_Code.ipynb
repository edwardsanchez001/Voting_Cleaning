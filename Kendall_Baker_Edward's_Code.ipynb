{
  "nbformat": 4,
  "nbformat_minor": 0,
  "metadata": {
    "colab": {
      "name": "Kendall Baker Edward's Code",
      "provenance": [],
      "collapsed_sections": [],
      "include_colab_link": true
    },
    "kernelspec": {
      "name": "python3",
      "display_name": "Python 3"
    },
    "language_info": {
      "name": "python"
    }
  },
  "cells": [
    {
      "cell_type": "markdown",
      "metadata": {
        "id": "view-in-github",
        "colab_type": "text"
      },
      "source": [
        "<a href=\"https://colab.research.google.com/github/edwardsanchez001/Voting_Cleaning/blob/main/Kendall_Baker_Edward's_Code.ipynb\" target=\"_parent\"><img src=\"https://colab.research.google.com/assets/colab-badge.svg\" alt=\"Open In Colab\"/></a>"
      ]
    },
    {
      "cell_type": "code",
      "metadata": {
        "id": "jnkYO9zojkCP"
      },
      "source": [
        "import numpy as np\n",
        "import pandas as pd\n",
        "from dateutil import parser\n",
        "from datetime import datetime, timedelta\n",
        "#import pygsheets\n",
        "import gspread\n",
        "from gspread_dataframe import set_with_dataframe\n",
        "from gspread_dataframe import set_with_dataframe"
      ],
      "execution_count": null,
      "outputs": []
    },
    {
      "cell_type": "code",
      "metadata": {
        "colab": {
          "base_uri": "https://localhost:8080/"
        },
        "id": "0oU5OCD2oO9B",
        "outputId": "881bd174-713e-46a4-83d3-7b4447f94d34"
      },
      "source": [
        "from google.colab import drive\n",
        "drive.mount('/content/drive/')"
      ],
      "execution_count": null,
      "outputs": [
        {
          "output_type": "stream",
          "name": "stdout",
          "text": [
            "Drive already mounted at /content/drive/; to attempt to forcibly remount, call drive.mount(\"/content/drive/\", force_remount=True).\n"
          ]
        }
      ]
    },
    {
      "cell_type": "code",
      "metadata": {
        "id": "dCmA4-lbxkmD"
      },
      "source": [
        "#election = pd.read_csv('https://harrisvotes.org/ElectionReports/Download?reportId=267.csv')"
      ],
      "execution_count": null,
      "outputs": []
    },
    {
      "cell_type": "code",
      "metadata": {
        "id": "vjWbsBSUGaFY"
      },
      "source": [
        "#days_list = ['Cumulative_EV_1121_10-19-21.csv','Cumulative_EV_1121_10-20-21.csv', \n",
        "#              'Cumulative_EV_1121_10-22-21.csv', 'Cumulative_EV_1121_10-23-21.csv', 'Cumulative_EV_1121_10-24-21.csv', 'Cumulative_EV_1121_10-25-21.csv' ]"
      ],
      "execution_count": null,
      "outputs": []
    },
    {
      "cell_type": "code",
      "metadata": {
        "id": "iQR2fwgDHB7y"
      },
      "source": [
        "election = pd.read_csv('/content/drive/MyDrive/Quetzal Data/Kendal Baker Campaign/December 9th/Cumulative_BBM_1221.csv')"
      ],
      "execution_count": null,
      "outputs": []
    },
    {
      "cell_type": "code",
      "metadata": {
        "id": "qXRQPs0Rza5F"
      },
      "source": [
        "election['Type'] = 'Mail'"
      ],
      "execution_count": null,
      "outputs": []
    },
    {
      "cell_type": "code",
      "source": [
        "len(election)"
      ],
      "metadata": {
        "colab": {
          "base_uri": "https://localhost:8080/"
        },
        "id": "Rqb0maKpzW0W",
        "outputId": "54d8a65a-c58e-4ce9-d96a-ed23cb7caa4a"
      },
      "execution_count": null,
      "outputs": [
        {
          "output_type": "execute_result",
          "data": {
            "text/plain": [
              "9604"
            ]
          },
          "metadata": {},
          "execution_count": 921
        }
      ]
    },
    {
      "cell_type": "code",
      "source": [
        ""
      ],
      "metadata": {
        "id": "y55nZ8FBy3U8"
      },
      "execution_count": null,
      "outputs": []
    },
    {
      "cell_type": "code",
      "metadata": {
        "colab": {
          "base_uri": "https://localhost:8080/",
          "height": 649
        },
        "id": "84TgjSVZzocY",
        "outputId": "f8c3008a-4be6-436e-cc7b-79a7e9371162"
      },
      "source": [
        "election.head()"
      ],
      "execution_count": null,
      "outputs": [
        {
          "output_type": "execute_result",
          "data": {
            "text/html": [
              "<div>\n",
              "<style scoped>\n",
              "    .dataframe tbody tr th:only-of-type {\n",
              "        vertical-align: middle;\n",
              "    }\n",
              "\n",
              "    .dataframe tbody tr th {\n",
              "        vertical-align: top;\n",
              "    }\n",
              "\n",
              "    .dataframe thead th {\n",
              "        text-align: right;\n",
              "    }\n",
              "</style>\n",
              "<table border=\"1\" class=\"dataframe\">\n",
              "  <thead>\n",
              "    <tr style=\"text-align: right;\">\n",
              "      <th></th>\n",
              "      <th>ElectionCode</th>\n",
              "      <th>IDNumber</th>\n",
              "      <th>StateVoterID</th>\n",
              "      <th>Party</th>\n",
              "      <th>Name</th>\n",
              "      <th>VoterAddress</th>\n",
              "      <th>VoterCity</th>\n",
              "      <th>VoterZIP</th>\n",
              "      <th>Precinct</th>\n",
              "      <th>EarlyVotingSite</th>\n",
              "      <th>ActivityDate</th>\n",
              "      <th>Dist02</th>\n",
              "      <th>Dist03</th>\n",
              "      <th>Dist04</th>\n",
              "      <th>Dist05</th>\n",
              "      <th>Dist06</th>\n",
              "      <th>Dist07</th>\n",
              "      <th>Dist10</th>\n",
              "      <th>Dist11</th>\n",
              "      <th>Dist12</th>\n",
              "      <th>Dist13</th>\n",
              "      <th>Dist14</th>\n",
              "      <th>Dist15</th>\n",
              "      <th>Dist16</th>\n",
              "      <th>Dist17</th>\n",
              "      <th>Dist18</th>\n",
              "      <th>Dist19</th>\n",
              "      <th>Dist20</th>\n",
              "      <th>Dist21</th>\n",
              "      <th>Dist22</th>\n",
              "      <th>Dist23</th>\n",
              "      <th>Dist24</th>\n",
              "      <th>Dist25</th>\n",
              "      <th>Dist26</th>\n",
              "      <th>Dist27</th>\n",
              "      <th>Dist28</th>\n",
              "      <th>Dist29</th>\n",
              "      <th>Dist30</th>\n",
              "      <th>Dist31</th>\n",
              "      <th>Dist32</th>\n",
              "      <th>Dist33</th>\n",
              "      <th>Type</th>\n",
              "    </tr>\n",
              "  </thead>\n",
              "  <tbody>\n",
              "    <tr>\n",
              "      <th>0</th>\n",
              "      <td>1221</td>\n",
              "      <td>26089581</td>\n",
              "      <td>1106131864</td>\n",
              "      <td>N~P</td>\n",
              "      <td>COBB, DEBORAH VEE</td>\n",
              "      <td>5910  GREENMONT</td>\n",
              "      <td>HOUSTON</td>\n",
              "      <td>77092.0</td>\n",
              "      <td>270</td>\n",
              "      <td>NaN</td>\n",
              "      <td>11/29/2021 12:00:00 AM</td>\n",
              "      <td>CONGRESSIONAL DIST 18</td>\n",
              "      <td>STATE SENATORIAL DIST 15</td>\n",
              "      <td>STATE REP DISTRICT 148</td>\n",
              "      <td>Commissioner Precinct 4</td>\n",
              "      <td>STATE BOARD OF EDUC DIST 04</td>\n",
              "      <td>JP/Constable Precinct 01</td>\n",
              "      <td>HOUSTON ISD</td>\n",
              "      <td>HOUSTON ISD POSITION 1</td>\n",
              "      <td>HOUSTON, CITY OF</td>\n",
              "      <td>HOUSTON COUNCIL DISTRICT C</td>\n",
              "      <td>NaN</td>\n",
              "      <td>NaN</td>\n",
              "      <td>NaN</td>\n",
              "      <td>NaN</td>\n",
              "      <td>NaN</td>\n",
              "      <td>HOUSTON COMMUNITY COLLEGE</td>\n",
              "      <td>NaN</td>\n",
              "      <td>NaN</td>\n",
              "      <td>NaN</td>\n",
              "      <td>NaN</td>\n",
              "      <td>HC SCHOOL TRUSTEE POS 2</td>\n",
              "      <td>HOUSTON COMM COL DIST 2</td>\n",
              "      <td>NaN</td>\n",
              "      <td>NaN</td>\n",
              "      <td>NaN</td>\n",
              "      <td>NaN</td>\n",
              "      <td>METROPOLITAN TRANSIT AUTHORITY</td>\n",
              "      <td>NaN</td>\n",
              "      <td>NaN</td>\n",
              "      <td>NaN</td>\n",
              "      <td>Mail</td>\n",
              "    </tr>\n",
              "    <tr>\n",
              "      <th>1</th>\n",
              "      <td>1221</td>\n",
              "      <td>3433497</td>\n",
              "      <td>1104054459</td>\n",
              "      <td>N~P</td>\n",
              "      <td>MOORE, MARJORIE JO</td>\n",
              "      <td>6630  BUFFALO SPEEDWAY</td>\n",
              "      <td>HOUSTON</td>\n",
              "      <td>77005.0</td>\n",
              "      <td>87</td>\n",
              "      <td>NaN</td>\n",
              "      <td>11/29/2021 12:00:00 AM</td>\n",
              "      <td>CONGRESSIONAL DIST 07</td>\n",
              "      <td>STATE SENATORIAL DIST 17</td>\n",
              "      <td>STATE REP DISTRICT 134</td>\n",
              "      <td>Commissioner Precinct 3</td>\n",
              "      <td>STATE BOARD OF EDUC DIST 06</td>\n",
              "      <td>JP/Constable Precinct 01</td>\n",
              "      <td>HOUSTON ISD</td>\n",
              "      <td>HOUSTON ISD POSITION 5</td>\n",
              "      <td>W. UNIVERSITY PLACE, CITY OF</td>\n",
              "      <td>NaN</td>\n",
              "      <td>NaN</td>\n",
              "      <td>NaN</td>\n",
              "      <td>NaN</td>\n",
              "      <td>NaN</td>\n",
              "      <td>NaN</td>\n",
              "      <td>HOUSTON COMMUNITY COLLEGE</td>\n",
              "      <td>NaN</td>\n",
              "      <td>NaN</td>\n",
              "      <td>NaN</td>\n",
              "      <td>NaN</td>\n",
              "      <td>HC SCHOOL TRUSTEE POS 4</td>\n",
              "      <td>HOUSTON COMM COL DIST 5</td>\n",
              "      <td>NaN</td>\n",
              "      <td>NaN</td>\n",
              "      <td>NaN</td>\n",
              "      <td>NaN</td>\n",
              "      <td>METROPOLITAN TRANSIT AUTHORITY</td>\n",
              "      <td>NaN</td>\n",
              "      <td>NaN</td>\n",
              "      <td>NaN</td>\n",
              "      <td>Mail</td>\n",
              "    </tr>\n",
              "    <tr>\n",
              "      <th>2</th>\n",
              "      <td>1221</td>\n",
              "      <td>69615672</td>\n",
              "      <td>1190762633</td>\n",
              "      <td>N~P</td>\n",
              "      <td>PILART, ROSE MARIE</td>\n",
              "      <td>12623  RAIA</td>\n",
              "      <td>HOUSTON</td>\n",
              "      <td>77071.0</td>\n",
              "      <td>506</td>\n",
              "      <td>NaN</td>\n",
              "      <td>11/29/2021 12:00:00 AM</td>\n",
              "      <td>CONGRESSIONAL DIST 09</td>\n",
              "      <td>STATE SENATORIAL DIST 13</td>\n",
              "      <td>STATE REP DISTRICT 131</td>\n",
              "      <td>Commissioner Precinct 1</td>\n",
              "      <td>STATE BOARD OF EDUC DIST 04</td>\n",
              "      <td>JP/Constable Precinct 07</td>\n",
              "      <td>HOUSTON ISD</td>\n",
              "      <td>HOUSTON ISD POSITION 9</td>\n",
              "      <td>MISSOURI CITY</td>\n",
              "      <td>MISSOURI CITY COUNCIL DISTRICT A</td>\n",
              "      <td>SOUTHWEST HC MUD 1</td>\n",
              "      <td>NaN</td>\n",
              "      <td>NaN</td>\n",
              "      <td>NaN</td>\n",
              "      <td>NaN</td>\n",
              "      <td>HOUSTON COMMUNITY COLLEGE</td>\n",
              "      <td>NaN</td>\n",
              "      <td>NaN</td>\n",
              "      <td>NaN</td>\n",
              "      <td>NaN</td>\n",
              "      <td>HC SCHOOL TRUSTEE POS 6</td>\n",
              "      <td>HOUSTON COMM COL DIST 9</td>\n",
              "      <td>NaN</td>\n",
              "      <td>NaN</td>\n",
              "      <td>NaN</td>\n",
              "      <td>NaN</td>\n",
              "      <td>METROPOLITAN TRANSIT AUTHORITY</td>\n",
              "      <td>NaN</td>\n",
              "      <td>NaN</td>\n",
              "      <td>NaN</td>\n",
              "      <td>Mail</td>\n",
              "    </tr>\n",
              "    <tr>\n",
              "      <th>3</th>\n",
              "      <td>1221</td>\n",
              "      <td>72367337</td>\n",
              "      <td>1125318370</td>\n",
              "      <td>N~P</td>\n",
              "      <td>ELLIS, PAUL ALLEN</td>\n",
              "      <td>12226  MEADOW LAKE</td>\n",
              "      <td>HOUSTON</td>\n",
              "      <td>77077.0</td>\n",
              "      <td>625</td>\n",
              "      <td>NaN</td>\n",
              "      <td>11/29/2021 12:00:00 AM</td>\n",
              "      <td>CONGRESSIONAL DIST 07</td>\n",
              "      <td>STATE SENATORIAL DIST 17</td>\n",
              "      <td>STATE REP DISTRICT 133</td>\n",
              "      <td>Commissioner Precinct 3</td>\n",
              "      <td>STATE BOARD OF EDUC DIST 06</td>\n",
              "      <td>JP/Constable Precinct 05</td>\n",
              "      <td>HOUSTON ISD</td>\n",
              "      <td>HOUSTON ISD POSITION 6</td>\n",
              "      <td>HOUSTON, CITY OF</td>\n",
              "      <td>HOUSTON COUNCIL DISTRICT G</td>\n",
              "      <td>NaN</td>\n",
              "      <td>NaN</td>\n",
              "      <td>NaN</td>\n",
              "      <td>NaN</td>\n",
              "      <td>NaN</td>\n",
              "      <td>HOUSTON COMMUNITY COLLEGE</td>\n",
              "      <td>NaN</td>\n",
              "      <td>NaN</td>\n",
              "      <td>NaN</td>\n",
              "      <td>NaN</td>\n",
              "      <td>HC SCHOOL TRUSTEE POS 4</td>\n",
              "      <td>HOUSTON COMM COL DIST 6</td>\n",
              "      <td>NaN</td>\n",
              "      <td>NaN</td>\n",
              "      <td>NaN</td>\n",
              "      <td>NaN</td>\n",
              "      <td>METROPOLITAN TRANSIT AUTHORITY</td>\n",
              "      <td>NaN</td>\n",
              "      <td>NaN</td>\n",
              "      <td>NaN</td>\n",
              "      <td>Mail</td>\n",
              "    </tr>\n",
              "    <tr>\n",
              "      <th>4</th>\n",
              "      <td>1221</td>\n",
              "      <td>21745054</td>\n",
              "      <td>1102148952</td>\n",
              "      <td>N~P</td>\n",
              "      <td>ANDRE, JOHN JOSEPH</td>\n",
              "      <td>4601  NORHILL</td>\n",
              "      <td>HOUSTON</td>\n",
              "      <td>77009.0</td>\n",
              "      <td>5</td>\n",
              "      <td>NaN</td>\n",
              "      <td>11/29/2021 12:00:00 AM</td>\n",
              "      <td>CONGRESSIONAL DIST 18</td>\n",
              "      <td>STATE SENATORIAL DIST 15</td>\n",
              "      <td>STATE REP DISTRICT 148</td>\n",
              "      <td>Commissioner Precinct 1</td>\n",
              "      <td>STATE BOARD OF EDUC DIST 06</td>\n",
              "      <td>JP/Constable Precinct 01</td>\n",
              "      <td>HOUSTON ISD</td>\n",
              "      <td>HOUSTON ISD POSITION 1</td>\n",
              "      <td>HOUSTON, CITY OF</td>\n",
              "      <td>HOUSTON COUNCIL DISTRICT H</td>\n",
              "      <td>NaN</td>\n",
              "      <td>NaN</td>\n",
              "      <td>NaN</td>\n",
              "      <td>NaN</td>\n",
              "      <td>NaN</td>\n",
              "      <td>HOUSTON COMMUNITY COLLEGE</td>\n",
              "      <td>NaN</td>\n",
              "      <td>NaN</td>\n",
              "      <td>NaN</td>\n",
              "      <td>NaN</td>\n",
              "      <td>HC SCHOOL TRUSTEE POS 6</td>\n",
              "      <td>HOUSTON COMM COL DIST 1</td>\n",
              "      <td>NaN</td>\n",
              "      <td>NaN</td>\n",
              "      <td>NaN</td>\n",
              "      <td>NaN</td>\n",
              "      <td>METROPOLITAN TRANSIT AUTHORITY</td>\n",
              "      <td>NaN</td>\n",
              "      <td>NaN</td>\n",
              "      <td>NaN</td>\n",
              "      <td>Mail</td>\n",
              "    </tr>\n",
              "  </tbody>\n",
              "</table>\n",
              "</div>"
            ],
            "text/plain": [
              "   ElectionCode  IDNumber  StateVoterID Party  ... Dist31 Dist32 Dist33  Type\n",
              "0          1221  26089581    1106131864   N~P  ...    NaN    NaN    NaN  Mail\n",
              "1          1221   3433497    1104054459   N~P  ...    NaN    NaN    NaN  Mail\n",
              "2          1221  69615672    1190762633   N~P  ...    NaN    NaN    NaN  Mail\n",
              "3          1221  72367337    1125318370   N~P  ...    NaN    NaN    NaN  Mail\n",
              "4          1221  21745054    1102148952   N~P  ...    NaN    NaN    NaN  Mail\n",
              "\n",
              "[5 rows x 42 columns]"
            ]
          },
          "metadata": {},
          "execution_count": 922
        }
      ]
    },
    {
      "cell_type": "code",
      "metadata": {
        "id": "sX-DAY1dyddF"
      },
      "source": [
        "election_EV = pd.read_csv('/content/drive/MyDrive/Quetzal Data/Kendal Baker Campaign/December 9th/Cumulative_EV_1221_12-07-21.csv')"
      ],
      "execution_count": null,
      "outputs": []
    },
    {
      "cell_type": "code",
      "metadata": {
        "id": "ZeZ4hGfizaLA"
      },
      "source": [
        "election_EV['Type'] = 'Early'"
      ],
      "execution_count": null,
      "outputs": []
    },
    {
      "cell_type": "code",
      "metadata": {
        "colab": {
          "base_uri": "https://localhost:8080/",
          "height": 649
        },
        "id": "Nz95UnXb0WRc",
        "outputId": "d76e8657-f386-43dc-e4d2-e2dfc9e05644"
      },
      "source": [
        "election_EV.head()"
      ],
      "execution_count": null,
      "outputs": [
        {
          "output_type": "execute_result",
          "data": {
            "text/html": [
              "<div>\n",
              "<style scoped>\n",
              "    .dataframe tbody tr th:only-of-type {\n",
              "        vertical-align: middle;\n",
              "    }\n",
              "\n",
              "    .dataframe tbody tr th {\n",
              "        vertical-align: top;\n",
              "    }\n",
              "\n",
              "    .dataframe thead th {\n",
              "        text-align: right;\n",
              "    }\n",
              "</style>\n",
              "<table border=\"1\" class=\"dataframe\">\n",
              "  <thead>\n",
              "    <tr style=\"text-align: right;\">\n",
              "      <th></th>\n",
              "      <th>ElectionCode</th>\n",
              "      <th>IDNumber</th>\n",
              "      <th>StateVoterID</th>\n",
              "      <th>Party</th>\n",
              "      <th>Name</th>\n",
              "      <th>VoterAddress</th>\n",
              "      <th>VoterCity</th>\n",
              "      <th>VoterZIP</th>\n",
              "      <th>Precinct</th>\n",
              "      <th>EarlyVotingSite</th>\n",
              "      <th>ActivityDate</th>\n",
              "      <th>Dist02</th>\n",
              "      <th>Dist03</th>\n",
              "      <th>Dist04</th>\n",
              "      <th>Dist05</th>\n",
              "      <th>Dist06</th>\n",
              "      <th>Dist07</th>\n",
              "      <th>Dist10</th>\n",
              "      <th>Dist11</th>\n",
              "      <th>Dist12</th>\n",
              "      <th>Dist13</th>\n",
              "      <th>Dist14</th>\n",
              "      <th>Dist15</th>\n",
              "      <th>Dist16</th>\n",
              "      <th>Dist17</th>\n",
              "      <th>Dist18</th>\n",
              "      <th>Dist19</th>\n",
              "      <th>Dist20</th>\n",
              "      <th>Dist21</th>\n",
              "      <th>Dist22</th>\n",
              "      <th>Dist23</th>\n",
              "      <th>Dist24</th>\n",
              "      <th>Dist25</th>\n",
              "      <th>Dist26</th>\n",
              "      <th>Dist27</th>\n",
              "      <th>Dist28</th>\n",
              "      <th>Dist29</th>\n",
              "      <th>Dist30</th>\n",
              "      <th>Dist31</th>\n",
              "      <th>Dist32</th>\n",
              "      <th>Dist33</th>\n",
              "      <th>Type</th>\n",
              "    </tr>\n",
              "  </thead>\n",
              "  <tbody>\n",
              "    <tr>\n",
              "      <th>0</th>\n",
              "      <td>1221</td>\n",
              "      <td>31469927</td>\n",
              "      <td>1111766226</td>\n",
              "      <td>N~P</td>\n",
              "      <td>KISLUK, BRET STEVEN</td>\n",
              "      <td>5639  RUTHERGLENN</td>\n",
              "      <td>HOUSTON</td>\n",
              "      <td>77096.0</td>\n",
              "      <td>403</td>\n",
              "      <td>SRD134W</td>\n",
              "      <td>12/7/2021 7:01:08 AM</td>\n",
              "      <td>CONGRESSIONAL DIST 07</td>\n",
              "      <td>STATE SENATORIAL DIST 17</td>\n",
              "      <td>STATE REP DISTRICT 134</td>\n",
              "      <td>Commissioner Precinct 3</td>\n",
              "      <td>STATE BOARD OF EDUC DIST 06</td>\n",
              "      <td>JP/Constable Precinct 05</td>\n",
              "      <td>HOUSTON ISD</td>\n",
              "      <td>HOUSTON ISD POSITION 5</td>\n",
              "      <td>HOUSTON, CITY OF</td>\n",
              "      <td>HOUSTON COUNCIL DISTRICT C</td>\n",
              "      <td>NaN</td>\n",
              "      <td>NaN</td>\n",
              "      <td>NaN</td>\n",
              "      <td>NaN</td>\n",
              "      <td>NaN</td>\n",
              "      <td>HOUSTON COMMUNITY COLLEGE</td>\n",
              "      <td>NaN</td>\n",
              "      <td>NaN</td>\n",
              "      <td>NaN</td>\n",
              "      <td>NaN</td>\n",
              "      <td>HC SCHOOL TRUSTEE POS 4</td>\n",
              "      <td>HOUSTON COMM COL DIST 5</td>\n",
              "      <td>NaN</td>\n",
              "      <td>NaN</td>\n",
              "      <td>NaN</td>\n",
              "      <td>NaN</td>\n",
              "      <td>METROPOLITAN TRANSIT AUTHORITY</td>\n",
              "      <td>NaN</td>\n",
              "      <td>NaN</td>\n",
              "      <td>NaN</td>\n",
              "      <td>Early</td>\n",
              "    </tr>\n",
              "    <tr>\n",
              "      <th>1</th>\n",
              "      <td>1221</td>\n",
              "      <td>80916950</td>\n",
              "      <td>2148606174</td>\n",
              "      <td>N~P</td>\n",
              "      <td>THOMPSON, NOLAN EDWARD</td>\n",
              "      <td>12338  ATTLEE</td>\n",
              "      <td>HOUSTON</td>\n",
              "      <td>77077.0</td>\n",
              "      <td>395</td>\n",
              "      <td>SRD131R</td>\n",
              "      <td>12/7/2021 7:01:45 AM</td>\n",
              "      <td>CONGRESSIONAL DIST 07</td>\n",
              "      <td>STATE SENATORIAL DIST 17</td>\n",
              "      <td>STATE REP DISTRICT 133</td>\n",
              "      <td>Commissioner Precinct 3</td>\n",
              "      <td>STATE BOARD OF EDUC DIST 06</td>\n",
              "      <td>JP/Constable Precinct 05</td>\n",
              "      <td>HOUSTON ISD</td>\n",
              "      <td>HOUSTON ISD POSITION 6</td>\n",
              "      <td>HOUSTON, CITY OF</td>\n",
              "      <td>HOUSTON COUNCIL DISTRICT G</td>\n",
              "      <td>NaN</td>\n",
              "      <td>NaN</td>\n",
              "      <td>NaN</td>\n",
              "      <td>NaN</td>\n",
              "      <td>NaN</td>\n",
              "      <td>HOUSTON COMMUNITY COLLEGE</td>\n",
              "      <td>NaN</td>\n",
              "      <td>NaN</td>\n",
              "      <td>NaN</td>\n",
              "      <td>NaN</td>\n",
              "      <td>HC SCHOOL TRUSTEE POS 4</td>\n",
              "      <td>HOUSTON COMM COL DIST 6</td>\n",
              "      <td>NaN</td>\n",
              "      <td>NaN</td>\n",
              "      <td>NaN</td>\n",
              "      <td>NaN</td>\n",
              "      <td>METROPOLITAN TRANSIT AUTHORITY</td>\n",
              "      <td>NaN</td>\n",
              "      <td>NaN</td>\n",
              "      <td>NaN</td>\n",
              "      <td>Early</td>\n",
              "    </tr>\n",
              "    <tr>\n",
              "      <th>2</th>\n",
              "      <td>1221</td>\n",
              "      <td>74750340</td>\n",
              "      <td>2000956684</td>\n",
              "      <td>N~P</td>\n",
              "      <td>HENNEGAN, ROBIN BOYLES</td>\n",
              "      <td>6434  CINDY</td>\n",
              "      <td>HOUSTON</td>\n",
              "      <td>77008.0</td>\n",
              "      <td>902</td>\n",
              "      <td>SRD148S</td>\n",
              "      <td>12/7/2021 7:01:55 AM</td>\n",
              "      <td>CONGRESSIONAL DIST 02</td>\n",
              "      <td>STATE SENATORIAL DIST 15</td>\n",
              "      <td>STATE REP DISTRICT 134</td>\n",
              "      <td>Commissioner Precinct 4</td>\n",
              "      <td>STATE BOARD OF EDUC DIST 06</td>\n",
              "      <td>JP/Constable Precinct 01</td>\n",
              "      <td>HOUSTON ISD</td>\n",
              "      <td>HOUSTON ISD POSITION 7</td>\n",
              "      <td>HOUSTON, CITY OF</td>\n",
              "      <td>HOUSTON COUNCIL DISTRICT C</td>\n",
              "      <td>NaN</td>\n",
              "      <td>NaN</td>\n",
              "      <td>NaN</td>\n",
              "      <td>NaN</td>\n",
              "      <td>NaN</td>\n",
              "      <td>HOUSTON COMMUNITY COLLEGE</td>\n",
              "      <td>NaN</td>\n",
              "      <td>NaN</td>\n",
              "      <td>NaN</td>\n",
              "      <td>NaN</td>\n",
              "      <td>HC SCHOOL TRUSTEE POS 2</td>\n",
              "      <td>HOUSTON COMM COL DIST 1</td>\n",
              "      <td>NaN</td>\n",
              "      <td>NaN</td>\n",
              "      <td>NaN</td>\n",
              "      <td>NaN</td>\n",
              "      <td>METROPOLITAN TRANSIT AUTHORITY</td>\n",
              "      <td>NaN</td>\n",
              "      <td>NaN</td>\n",
              "      <td>NaN</td>\n",
              "      <td>Early</td>\n",
              "    </tr>\n",
              "    <tr>\n",
              "      <th>3</th>\n",
              "      <td>1221</td>\n",
              "      <td>64755481</td>\n",
              "      <td>1131772086</td>\n",
              "      <td>N~P</td>\n",
              "      <td>FAAS, JULIE</td>\n",
              "      <td>4702  LAUREL</td>\n",
              "      <td>BELLAIRE</td>\n",
              "      <td>77401.0</td>\n",
              "      <td>268</td>\n",
              "      <td>SRD134W</td>\n",
              "      <td>12/7/2021 7:03:33 AM</td>\n",
              "      <td>CONGRESSIONAL DIST 07</td>\n",
              "      <td>STATE SENATORIAL DIST 17</td>\n",
              "      <td>STATE REP DISTRICT 134</td>\n",
              "      <td>Commissioner Precinct 3</td>\n",
              "      <td>STATE BOARD OF EDUC DIST 06</td>\n",
              "      <td>JP/Constable Precinct 01</td>\n",
              "      <td>HOUSTON ISD</td>\n",
              "      <td>HOUSTON ISD POSITION 5</td>\n",
              "      <td>BELLAIRE, CITY OF</td>\n",
              "      <td>NaN</td>\n",
              "      <td>NaN</td>\n",
              "      <td>NaN</td>\n",
              "      <td>NaN</td>\n",
              "      <td>NaN</td>\n",
              "      <td>NaN</td>\n",
              "      <td>HOUSTON COMMUNITY COLLEGE</td>\n",
              "      <td>NaN</td>\n",
              "      <td>NaN</td>\n",
              "      <td>NaN</td>\n",
              "      <td>NaN</td>\n",
              "      <td>HC SCHOOL TRUSTEE POS 4</td>\n",
              "      <td>HOUSTON COMM COL DIST 5</td>\n",
              "      <td>NaN</td>\n",
              "      <td>NaN</td>\n",
              "      <td>NaN</td>\n",
              "      <td>NaN</td>\n",
              "      <td>METROPOLITAN TRANSIT AUTHORITY</td>\n",
              "      <td>NaN</td>\n",
              "      <td>NaN</td>\n",
              "      <td>NaN</td>\n",
              "      <td>Early</td>\n",
              "    </tr>\n",
              "    <tr>\n",
              "      <th>4</th>\n",
              "      <td>1221</td>\n",
              "      <td>66462334</td>\n",
              "      <td>1170646539</td>\n",
              "      <td>N~P</td>\n",
              "      <td>HALE, CHANTEE LEIGH</td>\n",
              "      <td>11779 N EVELYN</td>\n",
              "      <td>HOUSTON</td>\n",
              "      <td>77071.0</td>\n",
              "      <td>506</td>\n",
              "      <td>SRD131R</td>\n",
              "      <td>12/7/2021 7:04:19 AM</td>\n",
              "      <td>CONGRESSIONAL DIST 09</td>\n",
              "      <td>STATE SENATORIAL DIST 13</td>\n",
              "      <td>STATE REP DISTRICT 131</td>\n",
              "      <td>Commissioner Precinct 1</td>\n",
              "      <td>STATE BOARD OF EDUC DIST 04</td>\n",
              "      <td>JP/Constable Precinct 07</td>\n",
              "      <td>HOUSTON ISD</td>\n",
              "      <td>HOUSTON ISD POSITION 9</td>\n",
              "      <td>MISSOURI CITY</td>\n",
              "      <td>MISSOURI CITY COUNCIL DISTRICT A</td>\n",
              "      <td>NaN</td>\n",
              "      <td>NaN</td>\n",
              "      <td>NaN</td>\n",
              "      <td>NaN</td>\n",
              "      <td>NaN</td>\n",
              "      <td>HOUSTON COMMUNITY COLLEGE</td>\n",
              "      <td>NaN</td>\n",
              "      <td>NaN</td>\n",
              "      <td>NaN</td>\n",
              "      <td>NaN</td>\n",
              "      <td>HC SCHOOL TRUSTEE POS 6</td>\n",
              "      <td>HOUSTON COMM COL DIST 9</td>\n",
              "      <td>HC WCID FONDREN ROAD</td>\n",
              "      <td>NaN</td>\n",
              "      <td>NaN</td>\n",
              "      <td>NaN</td>\n",
              "      <td>METROPOLITAN TRANSIT AUTHORITY</td>\n",
              "      <td>NaN</td>\n",
              "      <td>NaN</td>\n",
              "      <td>NaN</td>\n",
              "      <td>Early</td>\n",
              "    </tr>\n",
              "  </tbody>\n",
              "</table>\n",
              "</div>"
            ],
            "text/plain": [
              "   ElectionCode  IDNumber  StateVoterID Party  ... Dist31 Dist32 Dist33   Type\n",
              "0          1221  31469927    1111766226   N~P  ...    NaN    NaN    NaN  Early\n",
              "1          1221  80916950    2148606174   N~P  ...    NaN    NaN    NaN  Early\n",
              "2          1221  74750340    2000956684   N~P  ...    NaN    NaN    NaN  Early\n",
              "3          1221  64755481    1131772086   N~P  ...    NaN    NaN    NaN  Early\n",
              "4          1221  66462334    1170646539   N~P  ...    NaN    NaN    NaN  Early\n",
              "\n",
              "[5 rows x 42 columns]"
            ]
          },
          "metadata": {},
          "execution_count": 925
        }
      ]
    },
    {
      "cell_type": "code",
      "source": [
        ""
      ],
      "metadata": {
        "id": "CRaxMHvI7LIa"
      },
      "execution_count": null,
      "outputs": []
    },
    {
      "cell_type": "code",
      "source": [
        ""
      ],
      "metadata": {
        "id": "mTwvdrWN7LY9"
      },
      "execution_count": null,
      "outputs": []
    },
    {
      "cell_type": "code",
      "metadata": {
        "id": "w7WeniPQyogv"
      },
      "source": [
        "election = election.append(election_EV)"
      ],
      "execution_count": null,
      "outputs": []
    },
    {
      "cell_type": "code",
      "metadata": {
        "colab": {
          "base_uri": "https://localhost:8080/",
          "height": 649
        },
        "id": "hEuFDugz0dwx",
        "outputId": "882c9bc5-a120-45da-b08e-a3a27cd506f0"
      },
      "source": [
        "election.head()"
      ],
      "execution_count": null,
      "outputs": [
        {
          "output_type": "execute_result",
          "data": {
            "text/html": [
              "<div>\n",
              "<style scoped>\n",
              "    .dataframe tbody tr th:only-of-type {\n",
              "        vertical-align: middle;\n",
              "    }\n",
              "\n",
              "    .dataframe tbody tr th {\n",
              "        vertical-align: top;\n",
              "    }\n",
              "\n",
              "    .dataframe thead th {\n",
              "        text-align: right;\n",
              "    }\n",
              "</style>\n",
              "<table border=\"1\" class=\"dataframe\">\n",
              "  <thead>\n",
              "    <tr style=\"text-align: right;\">\n",
              "      <th></th>\n",
              "      <th>ElectionCode</th>\n",
              "      <th>IDNumber</th>\n",
              "      <th>StateVoterID</th>\n",
              "      <th>Party</th>\n",
              "      <th>Name</th>\n",
              "      <th>VoterAddress</th>\n",
              "      <th>VoterCity</th>\n",
              "      <th>VoterZIP</th>\n",
              "      <th>Precinct</th>\n",
              "      <th>EarlyVotingSite</th>\n",
              "      <th>ActivityDate</th>\n",
              "      <th>Dist02</th>\n",
              "      <th>Dist03</th>\n",
              "      <th>Dist04</th>\n",
              "      <th>Dist05</th>\n",
              "      <th>Dist06</th>\n",
              "      <th>Dist07</th>\n",
              "      <th>Dist10</th>\n",
              "      <th>Dist11</th>\n",
              "      <th>Dist12</th>\n",
              "      <th>Dist13</th>\n",
              "      <th>Dist14</th>\n",
              "      <th>Dist15</th>\n",
              "      <th>Dist16</th>\n",
              "      <th>Dist17</th>\n",
              "      <th>Dist18</th>\n",
              "      <th>Dist19</th>\n",
              "      <th>Dist20</th>\n",
              "      <th>Dist21</th>\n",
              "      <th>Dist22</th>\n",
              "      <th>Dist23</th>\n",
              "      <th>Dist24</th>\n",
              "      <th>Dist25</th>\n",
              "      <th>Dist26</th>\n",
              "      <th>Dist27</th>\n",
              "      <th>Dist28</th>\n",
              "      <th>Dist29</th>\n",
              "      <th>Dist30</th>\n",
              "      <th>Dist31</th>\n",
              "      <th>Dist32</th>\n",
              "      <th>Dist33</th>\n",
              "      <th>Type</th>\n",
              "    </tr>\n",
              "  </thead>\n",
              "  <tbody>\n",
              "    <tr>\n",
              "      <th>0</th>\n",
              "      <td>1221</td>\n",
              "      <td>26089581</td>\n",
              "      <td>1106131864</td>\n",
              "      <td>N~P</td>\n",
              "      <td>COBB, DEBORAH VEE</td>\n",
              "      <td>5910  GREENMONT</td>\n",
              "      <td>HOUSTON</td>\n",
              "      <td>77092.0</td>\n",
              "      <td>270</td>\n",
              "      <td>NaN</td>\n",
              "      <td>11/29/2021 12:00:00 AM</td>\n",
              "      <td>CONGRESSIONAL DIST 18</td>\n",
              "      <td>STATE SENATORIAL DIST 15</td>\n",
              "      <td>STATE REP DISTRICT 148</td>\n",
              "      <td>Commissioner Precinct 4</td>\n",
              "      <td>STATE BOARD OF EDUC DIST 04</td>\n",
              "      <td>JP/Constable Precinct 01</td>\n",
              "      <td>HOUSTON ISD</td>\n",
              "      <td>HOUSTON ISD POSITION 1</td>\n",
              "      <td>HOUSTON, CITY OF</td>\n",
              "      <td>HOUSTON COUNCIL DISTRICT C</td>\n",
              "      <td>NaN</td>\n",
              "      <td>NaN</td>\n",
              "      <td>NaN</td>\n",
              "      <td>NaN</td>\n",
              "      <td>NaN</td>\n",
              "      <td>HOUSTON COMMUNITY COLLEGE</td>\n",
              "      <td>NaN</td>\n",
              "      <td>NaN</td>\n",
              "      <td>NaN</td>\n",
              "      <td>NaN</td>\n",
              "      <td>HC SCHOOL TRUSTEE POS 2</td>\n",
              "      <td>HOUSTON COMM COL DIST 2</td>\n",
              "      <td>NaN</td>\n",
              "      <td>NaN</td>\n",
              "      <td>NaN</td>\n",
              "      <td>NaN</td>\n",
              "      <td>METROPOLITAN TRANSIT AUTHORITY</td>\n",
              "      <td>NaN</td>\n",
              "      <td>NaN</td>\n",
              "      <td>NaN</td>\n",
              "      <td>Mail</td>\n",
              "    </tr>\n",
              "    <tr>\n",
              "      <th>1</th>\n",
              "      <td>1221</td>\n",
              "      <td>3433497</td>\n",
              "      <td>1104054459</td>\n",
              "      <td>N~P</td>\n",
              "      <td>MOORE, MARJORIE JO</td>\n",
              "      <td>6630  BUFFALO SPEEDWAY</td>\n",
              "      <td>HOUSTON</td>\n",
              "      <td>77005.0</td>\n",
              "      <td>87</td>\n",
              "      <td>NaN</td>\n",
              "      <td>11/29/2021 12:00:00 AM</td>\n",
              "      <td>CONGRESSIONAL DIST 07</td>\n",
              "      <td>STATE SENATORIAL DIST 17</td>\n",
              "      <td>STATE REP DISTRICT 134</td>\n",
              "      <td>Commissioner Precinct 3</td>\n",
              "      <td>STATE BOARD OF EDUC DIST 06</td>\n",
              "      <td>JP/Constable Precinct 01</td>\n",
              "      <td>HOUSTON ISD</td>\n",
              "      <td>HOUSTON ISD POSITION 5</td>\n",
              "      <td>W. UNIVERSITY PLACE, CITY OF</td>\n",
              "      <td>NaN</td>\n",
              "      <td>NaN</td>\n",
              "      <td>NaN</td>\n",
              "      <td>NaN</td>\n",
              "      <td>NaN</td>\n",
              "      <td>NaN</td>\n",
              "      <td>HOUSTON COMMUNITY COLLEGE</td>\n",
              "      <td>NaN</td>\n",
              "      <td>NaN</td>\n",
              "      <td>NaN</td>\n",
              "      <td>NaN</td>\n",
              "      <td>HC SCHOOL TRUSTEE POS 4</td>\n",
              "      <td>HOUSTON COMM COL DIST 5</td>\n",
              "      <td>NaN</td>\n",
              "      <td>NaN</td>\n",
              "      <td>NaN</td>\n",
              "      <td>NaN</td>\n",
              "      <td>METROPOLITAN TRANSIT AUTHORITY</td>\n",
              "      <td>NaN</td>\n",
              "      <td>NaN</td>\n",
              "      <td>NaN</td>\n",
              "      <td>Mail</td>\n",
              "    </tr>\n",
              "    <tr>\n",
              "      <th>2</th>\n",
              "      <td>1221</td>\n",
              "      <td>69615672</td>\n",
              "      <td>1190762633</td>\n",
              "      <td>N~P</td>\n",
              "      <td>PILART, ROSE MARIE</td>\n",
              "      <td>12623  RAIA</td>\n",
              "      <td>HOUSTON</td>\n",
              "      <td>77071.0</td>\n",
              "      <td>506</td>\n",
              "      <td>NaN</td>\n",
              "      <td>11/29/2021 12:00:00 AM</td>\n",
              "      <td>CONGRESSIONAL DIST 09</td>\n",
              "      <td>STATE SENATORIAL DIST 13</td>\n",
              "      <td>STATE REP DISTRICT 131</td>\n",
              "      <td>Commissioner Precinct 1</td>\n",
              "      <td>STATE BOARD OF EDUC DIST 04</td>\n",
              "      <td>JP/Constable Precinct 07</td>\n",
              "      <td>HOUSTON ISD</td>\n",
              "      <td>HOUSTON ISD POSITION 9</td>\n",
              "      <td>MISSOURI CITY</td>\n",
              "      <td>MISSOURI CITY COUNCIL DISTRICT A</td>\n",
              "      <td>SOUTHWEST HC MUD 1</td>\n",
              "      <td>NaN</td>\n",
              "      <td>NaN</td>\n",
              "      <td>NaN</td>\n",
              "      <td>NaN</td>\n",
              "      <td>HOUSTON COMMUNITY COLLEGE</td>\n",
              "      <td>NaN</td>\n",
              "      <td>NaN</td>\n",
              "      <td>NaN</td>\n",
              "      <td>NaN</td>\n",
              "      <td>HC SCHOOL TRUSTEE POS 6</td>\n",
              "      <td>HOUSTON COMM COL DIST 9</td>\n",
              "      <td>NaN</td>\n",
              "      <td>NaN</td>\n",
              "      <td>NaN</td>\n",
              "      <td>NaN</td>\n",
              "      <td>METROPOLITAN TRANSIT AUTHORITY</td>\n",
              "      <td>NaN</td>\n",
              "      <td>NaN</td>\n",
              "      <td>NaN</td>\n",
              "      <td>Mail</td>\n",
              "    </tr>\n",
              "    <tr>\n",
              "      <th>3</th>\n",
              "      <td>1221</td>\n",
              "      <td>72367337</td>\n",
              "      <td>1125318370</td>\n",
              "      <td>N~P</td>\n",
              "      <td>ELLIS, PAUL ALLEN</td>\n",
              "      <td>12226  MEADOW LAKE</td>\n",
              "      <td>HOUSTON</td>\n",
              "      <td>77077.0</td>\n",
              "      <td>625</td>\n",
              "      <td>NaN</td>\n",
              "      <td>11/29/2021 12:00:00 AM</td>\n",
              "      <td>CONGRESSIONAL DIST 07</td>\n",
              "      <td>STATE SENATORIAL DIST 17</td>\n",
              "      <td>STATE REP DISTRICT 133</td>\n",
              "      <td>Commissioner Precinct 3</td>\n",
              "      <td>STATE BOARD OF EDUC DIST 06</td>\n",
              "      <td>JP/Constable Precinct 05</td>\n",
              "      <td>HOUSTON ISD</td>\n",
              "      <td>HOUSTON ISD POSITION 6</td>\n",
              "      <td>HOUSTON, CITY OF</td>\n",
              "      <td>HOUSTON COUNCIL DISTRICT G</td>\n",
              "      <td>NaN</td>\n",
              "      <td>NaN</td>\n",
              "      <td>NaN</td>\n",
              "      <td>NaN</td>\n",
              "      <td>NaN</td>\n",
              "      <td>HOUSTON COMMUNITY COLLEGE</td>\n",
              "      <td>NaN</td>\n",
              "      <td>NaN</td>\n",
              "      <td>NaN</td>\n",
              "      <td>NaN</td>\n",
              "      <td>HC SCHOOL TRUSTEE POS 4</td>\n",
              "      <td>HOUSTON COMM COL DIST 6</td>\n",
              "      <td>NaN</td>\n",
              "      <td>NaN</td>\n",
              "      <td>NaN</td>\n",
              "      <td>NaN</td>\n",
              "      <td>METROPOLITAN TRANSIT AUTHORITY</td>\n",
              "      <td>NaN</td>\n",
              "      <td>NaN</td>\n",
              "      <td>NaN</td>\n",
              "      <td>Mail</td>\n",
              "    </tr>\n",
              "    <tr>\n",
              "      <th>4</th>\n",
              "      <td>1221</td>\n",
              "      <td>21745054</td>\n",
              "      <td>1102148952</td>\n",
              "      <td>N~P</td>\n",
              "      <td>ANDRE, JOHN JOSEPH</td>\n",
              "      <td>4601  NORHILL</td>\n",
              "      <td>HOUSTON</td>\n",
              "      <td>77009.0</td>\n",
              "      <td>5</td>\n",
              "      <td>NaN</td>\n",
              "      <td>11/29/2021 12:00:00 AM</td>\n",
              "      <td>CONGRESSIONAL DIST 18</td>\n",
              "      <td>STATE SENATORIAL DIST 15</td>\n",
              "      <td>STATE REP DISTRICT 148</td>\n",
              "      <td>Commissioner Precinct 1</td>\n",
              "      <td>STATE BOARD OF EDUC DIST 06</td>\n",
              "      <td>JP/Constable Precinct 01</td>\n",
              "      <td>HOUSTON ISD</td>\n",
              "      <td>HOUSTON ISD POSITION 1</td>\n",
              "      <td>HOUSTON, CITY OF</td>\n",
              "      <td>HOUSTON COUNCIL DISTRICT H</td>\n",
              "      <td>NaN</td>\n",
              "      <td>NaN</td>\n",
              "      <td>NaN</td>\n",
              "      <td>NaN</td>\n",
              "      <td>NaN</td>\n",
              "      <td>HOUSTON COMMUNITY COLLEGE</td>\n",
              "      <td>NaN</td>\n",
              "      <td>NaN</td>\n",
              "      <td>NaN</td>\n",
              "      <td>NaN</td>\n",
              "      <td>HC SCHOOL TRUSTEE POS 6</td>\n",
              "      <td>HOUSTON COMM COL DIST 1</td>\n",
              "      <td>NaN</td>\n",
              "      <td>NaN</td>\n",
              "      <td>NaN</td>\n",
              "      <td>NaN</td>\n",
              "      <td>METROPOLITAN TRANSIT AUTHORITY</td>\n",
              "      <td>NaN</td>\n",
              "      <td>NaN</td>\n",
              "      <td>NaN</td>\n",
              "      <td>Mail</td>\n",
              "    </tr>\n",
              "  </tbody>\n",
              "</table>\n",
              "</div>"
            ],
            "text/plain": [
              "   ElectionCode  IDNumber  StateVoterID Party  ... Dist31 Dist32 Dist33  Type\n",
              "0          1221  26089581    1106131864   N~P  ...    NaN    NaN    NaN  Mail\n",
              "1          1221   3433497    1104054459   N~P  ...    NaN    NaN    NaN  Mail\n",
              "2          1221  69615672    1190762633   N~P  ...    NaN    NaN    NaN  Mail\n",
              "3          1221  72367337    1125318370   N~P  ...    NaN    NaN    NaN  Mail\n",
              "4          1221  21745054    1102148952   N~P  ...    NaN    NaN    NaN  Mail\n",
              "\n",
              "[5 rows x 42 columns]"
            ]
          },
          "metadata": {},
          "execution_count": 927
        }
      ]
    },
    {
      "cell_type": "code",
      "metadata": {
        "colab": {
          "base_uri": "https://localhost:8080/"
        },
        "id": "mXFHCXdAyxu-",
        "outputId": "2484844b-00dc-4c87-ff1f-629a82188996"
      },
      "source": [
        "election.shape"
      ],
      "execution_count": null,
      "outputs": [
        {
          "output_type": "execute_result",
          "data": {
            "text/plain": [
              "(12454, 42)"
            ]
          },
          "metadata": {},
          "execution_count": 928
        }
      ]
    },
    {
      "cell_type": "code",
      "metadata": {
        "id": "yQ3D9tNzHBOv"
      },
      "source": [
        "#for i in days_list:\n",
        "#  temp = pd.read_csv('/content/drive/MyDrive/Kendal Baker Campaign/Cumulative_EV_1121/'+i)\n",
        "#  election = election.append(temp)"
      ],
      "execution_count": null,
      "outputs": []
    },
    {
      "cell_type": "code",
      "metadata": {
        "id": "DQxsDmHLqKv0"
      },
      "source": [
        "columns = ['ActivityDate', 'StateVoterID','Name','VoterAddress','VoterZIP', 'Precinct', 'Dist11', 'Type']\n",
        "election = election.loc[:,columns]\n",
        "pos_6 = election[election['Dist11']== 'HOUSTON ISD POSITION 6']"
      ],
      "execution_count": null,
      "outputs": []
    },
    {
      "cell_type": "code",
      "metadata": {
        "id": "6TbQtXFD25pz"
      },
      "source": [
        "pos_6 = pos_6.dropna()"
      ],
      "execution_count": null,
      "outputs": []
    },
    {
      "cell_type": "code",
      "metadata": {
        "colab": {
          "base_uri": "https://localhost:8080/",
          "height": 204
        },
        "id": "tyRjmNpM2nRu",
        "outputId": "8c2aba59-af44-4d1b-c812-0c37d82a7d16"
      },
      "source": [
        "pos_6.head()"
      ],
      "execution_count": null,
      "outputs": [
        {
          "output_type": "execute_result",
          "data": {
            "text/html": [
              "<div>\n",
              "<style scoped>\n",
              "    .dataframe tbody tr th:only-of-type {\n",
              "        vertical-align: middle;\n",
              "    }\n",
              "\n",
              "    .dataframe tbody tr th {\n",
              "        vertical-align: top;\n",
              "    }\n",
              "\n",
              "    .dataframe thead th {\n",
              "        text-align: right;\n",
              "    }\n",
              "</style>\n",
              "<table border=\"1\" class=\"dataframe\">\n",
              "  <thead>\n",
              "    <tr style=\"text-align: right;\">\n",
              "      <th></th>\n",
              "      <th>ActivityDate</th>\n",
              "      <th>StateVoterID</th>\n",
              "      <th>Name</th>\n",
              "      <th>VoterAddress</th>\n",
              "      <th>VoterZIP</th>\n",
              "      <th>Precinct</th>\n",
              "      <th>Dist11</th>\n",
              "      <th>Type</th>\n",
              "    </tr>\n",
              "  </thead>\n",
              "  <tbody>\n",
              "    <tr>\n",
              "      <th>3</th>\n",
              "      <td>11/29/2021 12:00:00 AM</td>\n",
              "      <td>1125318370</td>\n",
              "      <td>ELLIS, PAUL ALLEN</td>\n",
              "      <td>12226  MEADOW LAKE</td>\n",
              "      <td>77077.0</td>\n",
              "      <td>625</td>\n",
              "      <td>HOUSTON ISD POSITION 6</td>\n",
              "      <td>Mail</td>\n",
              "    </tr>\n",
              "    <tr>\n",
              "      <th>7</th>\n",
              "      <td>11/29/2021 12:00:00 AM</td>\n",
              "      <td>1110522103</td>\n",
              "      <td>SANDERS, RANDALL LEE</td>\n",
              "      <td>10627  TUPPER LAKE</td>\n",
              "      <td>77042.0</td>\n",
              "      <td>356</td>\n",
              "      <td>HOUSTON ISD POSITION 6</td>\n",
              "      <td>Mail</td>\n",
              "    </tr>\n",
              "    <tr>\n",
              "      <th>8</th>\n",
              "      <td>11/29/2021 12:00:00 AM</td>\n",
              "      <td>1110522093</td>\n",
              "      <td>SANDERS, BONNIE RUTH</td>\n",
              "      <td>10627  TUPPER LAKE</td>\n",
              "      <td>77042.0</td>\n",
              "      <td>356</td>\n",
              "      <td>HOUSTON ISD POSITION 6</td>\n",
              "      <td>Mail</td>\n",
              "    </tr>\n",
              "    <tr>\n",
              "      <th>51</th>\n",
              "      <td>11/29/2021 12:00:00 AM</td>\n",
              "      <td>1111629756</td>\n",
              "      <td>DUMAINE, LINDA BISCOTTO</td>\n",
              "      <td>12343  WEDGEHILL</td>\n",
              "      <td>77077.0</td>\n",
              "      <td>395</td>\n",
              "      <td>HOUSTON ISD POSITION 6</td>\n",
              "      <td>Mail</td>\n",
              "    </tr>\n",
              "    <tr>\n",
              "      <th>59</th>\n",
              "      <td>11/29/2021 12:00:00 AM</td>\n",
              "      <td>2166958317</td>\n",
              "      <td>LEONARD, MICHAEL EWAN</td>\n",
              "      <td>12814  TUTOR</td>\n",
              "      <td>77077.0</td>\n",
              "      <td>510</td>\n",
              "      <td>HOUSTON ISD POSITION 6</td>\n",
              "      <td>Mail</td>\n",
              "    </tr>\n",
              "  </tbody>\n",
              "</table>\n",
              "</div>"
            ],
            "text/plain": [
              "              ActivityDate  StateVoterID  ...                  Dist11  Type\n",
              "3   11/29/2021 12:00:00 AM    1125318370  ...  HOUSTON ISD POSITION 6  Mail\n",
              "7   11/29/2021 12:00:00 AM    1110522103  ...  HOUSTON ISD POSITION 6  Mail\n",
              "8   11/29/2021 12:00:00 AM    1110522093  ...  HOUSTON ISD POSITION 6  Mail\n",
              "51  11/29/2021 12:00:00 AM    1111629756  ...  HOUSTON ISD POSITION 6  Mail\n",
              "59  11/29/2021 12:00:00 AM    2166958317  ...  HOUSTON ISD POSITION 6  Mail\n",
              "\n",
              "[5 rows x 8 columns]"
            ]
          },
          "metadata": {},
          "execution_count": 932
        }
      ]
    },
    {
      "cell_type": "code",
      "source": [
        ""
      ],
      "metadata": {
        "id": "QVvowQR76zIi"
      },
      "execution_count": null,
      "outputs": []
    },
    {
      "cell_type": "code",
      "source": [
        ""
      ],
      "metadata": {
        "id": "QwR65_qM68kk"
      },
      "execution_count": null,
      "outputs": []
    },
    {
      "cell_type": "code",
      "metadata": {
        "id": "YiMdFCnv3r1d"
      },
      "source": [
        "pos_6['VoterZIP'] = pos_6['VoterZIP'].astype(int)"
      ],
      "execution_count": null,
      "outputs": []
    },
    {
      "cell_type": "code",
      "metadata": {
        "id": "8nK5lCTV7o5N"
      },
      "source": [
        "pos_6['VoterZIP'] = pos_6['VoterZIP'].astype(str)"
      ],
      "execution_count": null,
      "outputs": []
    },
    {
      "cell_type": "code",
      "metadata": {
        "id": "76fhATgj2sit"
      },
      "source": [
        "pos_6['VoterAddress'] = pos_6.apply(lambda x: (x['VoterAddress'] + ' HOUSTON, TX'),axis = 1)"
      ],
      "execution_count": null,
      "outputs": []
    },
    {
      "cell_type": "code",
      "metadata": {
        "id": "UsaCF1E67STa"
      },
      "source": [
        "pos_6['VoterAddress']= pos_6['VoterAddress'] + ' ' + pos_6['VoterZIP']"
      ],
      "execution_count": null,
      "outputs": []
    },
    {
      "cell_type": "code",
      "metadata": {
        "colab": {
          "base_uri": "https://localhost:8080/",
          "height": 204
        },
        "id": "kJjAU3LH3g5N",
        "outputId": "295244f8-f5be-4003-9b03-27d7cb5827ba"
      },
      "source": [
        "pos_6.tail()"
      ],
      "execution_count": null,
      "outputs": [
        {
          "output_type": "execute_result",
          "data": {
            "text/html": [
              "<div>\n",
              "<style scoped>\n",
              "    .dataframe tbody tr th:only-of-type {\n",
              "        vertical-align: middle;\n",
              "    }\n",
              "\n",
              "    .dataframe tbody tr th {\n",
              "        vertical-align: top;\n",
              "    }\n",
              "\n",
              "    .dataframe thead th {\n",
              "        text-align: right;\n",
              "    }\n",
              "</style>\n",
              "<table border=\"1\" class=\"dataframe\">\n",
              "  <thead>\n",
              "    <tr style=\"text-align: right;\">\n",
              "      <th></th>\n",
              "      <th>ActivityDate</th>\n",
              "      <th>StateVoterID</th>\n",
              "      <th>Name</th>\n",
              "      <th>VoterAddress</th>\n",
              "      <th>VoterZIP</th>\n",
              "      <th>Precinct</th>\n",
              "      <th>Dist11</th>\n",
              "      <th>Type</th>\n",
              "    </tr>\n",
              "  </thead>\n",
              "  <tbody>\n",
              "    <tr>\n",
              "      <th>2829</th>\n",
              "      <td>12/7/2021 6:52:50 PM</td>\n",
              "      <td>1159052372</td>\n",
              "      <td>SUTTON, MARIA ANTONIA</td>\n",
              "      <td>7730  BRAES MEADOW  HOUSTON, TX 77071</td>\n",
              "      <td>77071</td>\n",
              "      <td>490</td>\n",
              "      <td>HOUSTON ISD POSITION 6</td>\n",
              "      <td>Early</td>\n",
              "    </tr>\n",
              "    <tr>\n",
              "      <th>2831</th>\n",
              "      <td>12/7/2021 6:52:56 PM</td>\n",
              "      <td>1112300518</td>\n",
              "      <td>ZAMBRANA, MARIA IRENE</td>\n",
              "      <td>8110  BURNING HILLS  HOUSTON, TX 77071</td>\n",
              "      <td>77071</td>\n",
              "      <td>490</td>\n",
              "      <td>HOUSTON ISD POSITION 6</td>\n",
              "      <td>Early</td>\n",
              "    </tr>\n",
              "    <tr>\n",
              "      <th>2846</th>\n",
              "      <td>12/7/2021 6:59:56 PM</td>\n",
              "      <td>1114214378</td>\n",
              "      <td>FITE, RALPH HILLIN</td>\n",
              "      <td>10222  DEL MONTE  HOUSTON, TX 77042</td>\n",
              "      <td>77042</td>\n",
              "      <td>499</td>\n",
              "      <td>HOUSTON ISD POSITION 6</td>\n",
              "      <td>Early</td>\n",
              "    </tr>\n",
              "    <tr>\n",
              "      <th>2847</th>\n",
              "      <td>12/7/2021 7:00:04 PM</td>\n",
              "      <td>1157616028</td>\n",
              "      <td>MATHEW, ESTHER ANN</td>\n",
              "      <td>7722  NAIRN  HOUSTON, TX 77074</td>\n",
              "      <td>77074</td>\n",
              "      <td>284</td>\n",
              "      <td>HOUSTON ISD POSITION 6</td>\n",
              "      <td>Early</td>\n",
              "    </tr>\n",
              "    <tr>\n",
              "      <th>2848</th>\n",
              "      <td>12/7/2021 7:00:35 PM</td>\n",
              "      <td>1102926961</td>\n",
              "      <td>SIMON, JEROME BYRON</td>\n",
              "      <td>3 E RIVERCREST  HOUSTON, TX 77042</td>\n",
              "      <td>77042</td>\n",
              "      <td>130</td>\n",
              "      <td>HOUSTON ISD POSITION 6</td>\n",
              "      <td>Early</td>\n",
              "    </tr>\n",
              "  </tbody>\n",
              "</table>\n",
              "</div>"
            ],
            "text/plain": [
              "              ActivityDate  StateVoterID  ...                  Dist11   Type\n",
              "2829  12/7/2021 6:52:50 PM    1159052372  ...  HOUSTON ISD POSITION 6  Early\n",
              "2831  12/7/2021 6:52:56 PM    1112300518  ...  HOUSTON ISD POSITION 6  Early\n",
              "2846  12/7/2021 6:59:56 PM    1114214378  ...  HOUSTON ISD POSITION 6  Early\n",
              "2847  12/7/2021 7:00:04 PM    1157616028  ...  HOUSTON ISD POSITION 6  Early\n",
              "2848  12/7/2021 7:00:35 PM    1102926961  ...  HOUSTON ISD POSITION 6  Early\n",
              "\n",
              "[5 rows x 8 columns]"
            ]
          },
          "metadata": {},
          "execution_count": 937
        }
      ]
    },
    {
      "cell_type": "code",
      "source": [
        "num1+num2+num3+num4+num5+num6"
      ],
      "metadata": {
        "colab": {
          "base_uri": "https://localhost:8080/"
        },
        "id": "34KP6QG38dXI",
        "outputId": "9506a5b7-e445-4770-b3be-9afeed4596fe"
      },
      "execution_count": null,
      "outputs": [
        {
          "output_type": "execute_result",
          "data": {
            "text/plain": [
              "2128"
            ]
          },
          "metadata": {},
          "execution_count": 938
        }
      ]
    },
    {
      "cell_type": "code",
      "source": [
        "#print(pos_6['Projected_Candidate'][num2+num1:num3+num2+num1])"
      ],
      "metadata": {
        "id": "VhSn0O129x29"
      },
      "execution_count": null,
      "outputs": []
    },
    {
      "cell_type": "code",
      "source": [
        "#print(pos_6['Projected_Candidate'][num4+num5:num6+num4+num5])"
      ],
      "metadata": {
        "id": "YVo4hvbS-zKl"
      },
      "execution_count": null,
      "outputs": []
    },
    {
      "cell_type": "code",
      "source": [
        "pos_6['Type'].value_counts()"
      ],
      "metadata": {
        "colab": {
          "base_uri": "https://localhost:8080/"
        },
        "id": "pyDaX4pc_DmN",
        "outputId": "7e27a7ea-e1fc-41f0-af29-1bd613f4a086"
      },
      "execution_count": null,
      "outputs": [
        {
          "output_type": "execute_result",
          "data": {
            "text/plain": [
              "Mail     1775\n",
              "Early     354\n",
              "Name: Type, dtype: int64"
            ]
          },
          "metadata": {},
          "execution_count": 941
        }
      ]
    },
    {
      "cell_type": "code",
      "source": [
        "\n",
        "#mail vote percentage projection\n",
        "num1 = round(len(pos_6[pos_6.Type == 'Mail'])*0.3153) \n",
        "num2 = round(len(pos_6[pos_6.Type == 'Mail'])*0.525)\n",
        "num3 = round(len(pos_6[pos_6.Type == 'Mail'])*0.1594)\n",
        "\n",
        "#early voting percent projection\n",
        "num4 = round(len(pos_6[pos_6.Type == 'Early'])*0.4156)\n",
        "num5 = round(len(pos_6[pos_6.Type == 'Early'])*0.3855)\n",
        "num6 = round(len(pos_6[pos_6.Type == 'Early'])*(1-0.4156-0.3855))\n",
        "\n"
      ],
      "metadata": {
        "id": "jrTtrb3Wzrjs"
      },
      "execution_count": null,
      "outputs": []
    },
    {
      "cell_type": "code",
      "source": [
        "pos_6.head()"
      ],
      "metadata": {
        "colab": {
          "base_uri": "https://localhost:8080/",
          "height": 204
        },
        "id": "ThHBXFU3CyGc",
        "outputId": "8b8bf8d8-e7bd-46c2-95d8-9681f7ed1b9f"
      },
      "execution_count": null,
      "outputs": [
        {
          "output_type": "execute_result",
          "data": {
            "text/html": [
              "<div>\n",
              "<style scoped>\n",
              "    .dataframe tbody tr th:only-of-type {\n",
              "        vertical-align: middle;\n",
              "    }\n",
              "\n",
              "    .dataframe tbody tr th {\n",
              "        vertical-align: top;\n",
              "    }\n",
              "\n",
              "    .dataframe thead th {\n",
              "        text-align: right;\n",
              "    }\n",
              "</style>\n",
              "<table border=\"1\" class=\"dataframe\">\n",
              "  <thead>\n",
              "    <tr style=\"text-align: right;\">\n",
              "      <th></th>\n",
              "      <th>ActivityDate</th>\n",
              "      <th>StateVoterID</th>\n",
              "      <th>Name</th>\n",
              "      <th>VoterAddress</th>\n",
              "      <th>VoterZIP</th>\n",
              "      <th>Precinct</th>\n",
              "      <th>Dist11</th>\n",
              "      <th>Type</th>\n",
              "    </tr>\n",
              "  </thead>\n",
              "  <tbody>\n",
              "    <tr>\n",
              "      <th>3</th>\n",
              "      <td>11/29/2021 12:00:00 AM</td>\n",
              "      <td>1125318370</td>\n",
              "      <td>ELLIS, PAUL ALLEN</td>\n",
              "      <td>12226  MEADOW LAKE  HOUSTON, TX 77077</td>\n",
              "      <td>77077</td>\n",
              "      <td>625</td>\n",
              "      <td>HOUSTON ISD POSITION 6</td>\n",
              "      <td>Mail</td>\n",
              "    </tr>\n",
              "    <tr>\n",
              "      <th>7</th>\n",
              "      <td>11/29/2021 12:00:00 AM</td>\n",
              "      <td>1110522103</td>\n",
              "      <td>SANDERS, RANDALL LEE</td>\n",
              "      <td>10627  TUPPER LAKE  HOUSTON, TX 77042</td>\n",
              "      <td>77042</td>\n",
              "      <td>356</td>\n",
              "      <td>HOUSTON ISD POSITION 6</td>\n",
              "      <td>Mail</td>\n",
              "    </tr>\n",
              "    <tr>\n",
              "      <th>8</th>\n",
              "      <td>11/29/2021 12:00:00 AM</td>\n",
              "      <td>1110522093</td>\n",
              "      <td>SANDERS, BONNIE RUTH</td>\n",
              "      <td>10627  TUPPER LAKE  HOUSTON, TX 77042</td>\n",
              "      <td>77042</td>\n",
              "      <td>356</td>\n",
              "      <td>HOUSTON ISD POSITION 6</td>\n",
              "      <td>Mail</td>\n",
              "    </tr>\n",
              "    <tr>\n",
              "      <th>51</th>\n",
              "      <td>11/29/2021 12:00:00 AM</td>\n",
              "      <td>1111629756</td>\n",
              "      <td>DUMAINE, LINDA BISCOTTO</td>\n",
              "      <td>12343  WEDGEHILL  HOUSTON, TX 77077</td>\n",
              "      <td>77077</td>\n",
              "      <td>395</td>\n",
              "      <td>HOUSTON ISD POSITION 6</td>\n",
              "      <td>Mail</td>\n",
              "    </tr>\n",
              "    <tr>\n",
              "      <th>59</th>\n",
              "      <td>11/29/2021 12:00:00 AM</td>\n",
              "      <td>2166958317</td>\n",
              "      <td>LEONARD, MICHAEL EWAN</td>\n",
              "      <td>12814  TUTOR  HOUSTON, TX 77077</td>\n",
              "      <td>77077</td>\n",
              "      <td>510</td>\n",
              "      <td>HOUSTON ISD POSITION 6</td>\n",
              "      <td>Mail</td>\n",
              "    </tr>\n",
              "  </tbody>\n",
              "</table>\n",
              "</div>"
            ],
            "text/plain": [
              "              ActivityDate  StateVoterID  ...                  Dist11  Type\n",
              "3   11/29/2021 12:00:00 AM    1125318370  ...  HOUSTON ISD POSITION 6  Mail\n",
              "7   11/29/2021 12:00:00 AM    1110522103  ...  HOUSTON ISD POSITION 6  Mail\n",
              "8   11/29/2021 12:00:00 AM    1110522093  ...  HOUSTON ISD POSITION 6  Mail\n",
              "51  11/29/2021 12:00:00 AM    1111629756  ...  HOUSTON ISD POSITION 6  Mail\n",
              "59  11/29/2021 12:00:00 AM    2166958317  ...  HOUSTON ISD POSITION 6  Mail\n",
              "\n",
              "[5 rows x 8 columns]"
            ]
          },
          "metadata": {},
          "execution_count": 943
        }
      ]
    },
    {
      "cell_type": "code",
      "source": [
        "print(num4)"
      ],
      "metadata": {
        "colab": {
          "base_uri": "https://localhost:8080/"
        },
        "id": "hydfaMSoGPrM",
        "outputId": "8f1b0267-3c08-444c-d16f-df9711609c91"
      },
      "execution_count": null,
      "outputs": [
        {
          "output_type": "stream",
          "name": "stdout",
          "text": [
            "147\n"
          ]
        }
      ]
    },
    {
      "cell_type": "code",
      "source": [
        "pos_6.Type"
      ],
      "metadata": {
        "colab": {
          "base_uri": "https://localhost:8080/"
        },
        "id": "w5qmDMA6N9rm",
        "outputId": "a9fc6d7f-654c-463f-d6c6-528666728e51"
      },
      "execution_count": null,
      "outputs": [
        {
          "output_type": "execute_result",
          "data": {
            "text/plain": [
              "3        Mail\n",
              "7        Mail\n",
              "8        Mail\n",
              "51       Mail\n",
              "59       Mail\n",
              "        ...  \n",
              "2829    Early\n",
              "2831    Early\n",
              "2846    Early\n",
              "2847    Early\n",
              "2848    Early\n",
              "Name: Type, Length: 2129, dtype: object"
            ]
          },
          "metadata": {},
          "execution_count": 945
        }
      ]
    },
    {
      "cell_type": "code",
      "source": [
        ""
      ],
      "metadata": {
        "id": "sEhBq4rdCqHn"
      },
      "execution_count": null,
      "outputs": []
    },
    {
      "cell_type": "code",
      "source": [
        "print(counter_H)"
      ],
      "metadata": {
        "colab": {
          "base_uri": "https://localhost:8080/"
        },
        "id": "rVPOi0WAH3tJ",
        "outputId": "ba3ce319-9814-4158-e252-6cdfe46b49ce"
      },
      "execution_count": null,
      "outputs": [
        {
          "output_type": "stream",
          "name": "stdout",
          "text": [
            "0\n"
          ]
        }
      ]
    },
    {
      "cell_type": "code",
      "source": [
        "print(counter_K_2)"
      ],
      "metadata": {
        "colab": {
          "base_uri": "https://localhost:8080/"
        },
        "id": "4BTAk3V1H5SO",
        "outputId": "923b6506-6936-4c49-9d71-3a7012ea98c8"
      },
      "execution_count": null,
      "outputs": [
        {
          "output_type": "stream",
          "name": "stdout",
          "text": [
            "0\n"
          ]
        }
      ]
    },
    {
      "cell_type": "code",
      "source": [
        "pos_6 = pos_6.reset_index()"
      ],
      "metadata": {
        "id": "DND_UMPjKxTn"
      },
      "execution_count": null,
      "outputs": []
    },
    {
      "cell_type": "code",
      "source": [
        "pos_6 = pos_6.drop(columns=('index'))"
      ],
      "metadata": {
        "id": "bjb541FXWw9o"
      },
      "execution_count": null,
      "outputs": []
    },
    {
      "cell_type": "code",
      "source": [
        "pos_6.head()"
      ],
      "metadata": {
        "colab": {
          "base_uri": "https://localhost:8080/",
          "height": 204
        },
        "id": "cOTUWtK0WpfH",
        "outputId": "8f28619c-3acc-4b4f-fe3b-1442119f5368"
      },
      "execution_count": null,
      "outputs": [
        {
          "output_type": "execute_result",
          "data": {
            "text/html": [
              "<div>\n",
              "<style scoped>\n",
              "    .dataframe tbody tr th:only-of-type {\n",
              "        vertical-align: middle;\n",
              "    }\n",
              "\n",
              "    .dataframe tbody tr th {\n",
              "        vertical-align: top;\n",
              "    }\n",
              "\n",
              "    .dataframe thead th {\n",
              "        text-align: right;\n",
              "    }\n",
              "</style>\n",
              "<table border=\"1\" class=\"dataframe\">\n",
              "  <thead>\n",
              "    <tr style=\"text-align: right;\">\n",
              "      <th></th>\n",
              "      <th>ActivityDate</th>\n",
              "      <th>StateVoterID</th>\n",
              "      <th>Name</th>\n",
              "      <th>VoterAddress</th>\n",
              "      <th>VoterZIP</th>\n",
              "      <th>Precinct</th>\n",
              "      <th>Dist11</th>\n",
              "      <th>Type</th>\n",
              "    </tr>\n",
              "  </thead>\n",
              "  <tbody>\n",
              "    <tr>\n",
              "      <th>0</th>\n",
              "      <td>11/29/2021 12:00:00 AM</td>\n",
              "      <td>1125318370</td>\n",
              "      <td>ELLIS, PAUL ALLEN</td>\n",
              "      <td>12226  MEADOW LAKE  HOUSTON, TX 77077</td>\n",
              "      <td>77077</td>\n",
              "      <td>625</td>\n",
              "      <td>HOUSTON ISD POSITION 6</td>\n",
              "      <td>Mail</td>\n",
              "    </tr>\n",
              "    <tr>\n",
              "      <th>1</th>\n",
              "      <td>11/29/2021 12:00:00 AM</td>\n",
              "      <td>1110522103</td>\n",
              "      <td>SANDERS, RANDALL LEE</td>\n",
              "      <td>10627  TUPPER LAKE  HOUSTON, TX 77042</td>\n",
              "      <td>77042</td>\n",
              "      <td>356</td>\n",
              "      <td>HOUSTON ISD POSITION 6</td>\n",
              "      <td>Mail</td>\n",
              "    </tr>\n",
              "    <tr>\n",
              "      <th>2</th>\n",
              "      <td>11/29/2021 12:00:00 AM</td>\n",
              "      <td>1110522093</td>\n",
              "      <td>SANDERS, BONNIE RUTH</td>\n",
              "      <td>10627  TUPPER LAKE  HOUSTON, TX 77042</td>\n",
              "      <td>77042</td>\n",
              "      <td>356</td>\n",
              "      <td>HOUSTON ISD POSITION 6</td>\n",
              "      <td>Mail</td>\n",
              "    </tr>\n",
              "    <tr>\n",
              "      <th>3</th>\n",
              "      <td>11/29/2021 12:00:00 AM</td>\n",
              "      <td>1111629756</td>\n",
              "      <td>DUMAINE, LINDA BISCOTTO</td>\n",
              "      <td>12343  WEDGEHILL  HOUSTON, TX 77077</td>\n",
              "      <td>77077</td>\n",
              "      <td>395</td>\n",
              "      <td>HOUSTON ISD POSITION 6</td>\n",
              "      <td>Mail</td>\n",
              "    </tr>\n",
              "    <tr>\n",
              "      <th>4</th>\n",
              "      <td>11/29/2021 12:00:00 AM</td>\n",
              "      <td>2166958317</td>\n",
              "      <td>LEONARD, MICHAEL EWAN</td>\n",
              "      <td>12814  TUTOR  HOUSTON, TX 77077</td>\n",
              "      <td>77077</td>\n",
              "      <td>510</td>\n",
              "      <td>HOUSTON ISD POSITION 6</td>\n",
              "      <td>Mail</td>\n",
              "    </tr>\n",
              "  </tbody>\n",
              "</table>\n",
              "</div>"
            ],
            "text/plain": [
              "             ActivityDate  StateVoterID  ...                  Dist11  Type\n",
              "0  11/29/2021 12:00:00 AM    1125318370  ...  HOUSTON ISD POSITION 6  Mail\n",
              "1  11/29/2021 12:00:00 AM    1110522103  ...  HOUSTON ISD POSITION 6  Mail\n",
              "2  11/29/2021 12:00:00 AM    1110522093  ...  HOUSTON ISD POSITION 6  Mail\n",
              "3  11/29/2021 12:00:00 AM    1111629756  ...  HOUSTON ISD POSITION 6  Mail\n",
              "4  11/29/2021 12:00:00 AM    2166958317  ...  HOUSTON ISD POSITION 6  Mail\n",
              "\n",
              "[5 rows x 8 columns]"
            ]
          },
          "metadata": {},
          "execution_count": 950
        }
      ]
    },
    {
      "cell_type": "code",
      "source": [
        "pos_6['Type'][:num1]"
      ],
      "metadata": {
        "colab": {
          "base_uri": "https://localhost:8080/"
        },
        "id": "z98jXY8mUycN",
        "outputId": "052384f9-944a-4ecf-8b05-19780a733b1b"
      },
      "execution_count": null,
      "outputs": [
        {
          "output_type": "execute_result",
          "data": {
            "text/plain": [
              "0      Mail\n",
              "1      Mail\n",
              "2      Mail\n",
              "3      Mail\n",
              "4      Mail\n",
              "       ... \n",
              "555    Mail\n",
              "556    Mail\n",
              "557    Mail\n",
              "558    Mail\n",
              "559    Mail\n",
              "Name: Type, Length: 560, dtype: object"
            ]
          },
          "metadata": {},
          "execution_count": 951
        }
      ]
    },
    {
      "cell_type": "code",
      "source": [
        ""
      ],
      "metadata": {
        "id": "9lmQcRwOVWCB"
      },
      "execution_count": null,
      "outputs": []
    },
    {
      "cell_type": "code",
      "source": [
        "#for i in pos_6[:num1]:\n",
        " # pos_6['Projected_Candidate'] = np.where(pos_6.Type == \"Mail\", pos_6['Projected_Candidate']== 'Kendall Baker', pos_6['Projected_Candidate'])\n",
        "#for i in pos_6[num1:num2+num1]:\n",
        " # pos_6['Projected_Candidate'] = np.where(pos_6.Type == \"Mail\", pos_6['Projected_Candidate']== 'Holly Flynn', pos_6['Projected_Candidate'])\n",
        "#for i in pos_6[num1+num2:num3+num2+num1]:\n",
        " # pos_6['Projected_Candidate'] = np.where(pos_6.Type == \"Mail\", pos_6['Projected_Candidate']== 'Open Voters', pos_6['Projected_Candidate'])\n",
        "\n",
        "\n",
        "#for i in pos_6[:num4]:\n",
        " # pos_6['Projected_Candidate'] = np.where(pos_6.Type == \"Early\", pos_6['Projected_Candidate']== 'Kendall Baker', pos_6['Projected_Candidate'])\n",
        "#for i in pos_6[num4:num4+num5]:\n",
        " # pos_6['Projected_Candidate'] = np.where(pos_6.Type == \"Early\", pos_6['Projected_Candidate']== 'Holly Flynn', pos_6['Projected_Candidate'])\n",
        "#for i in pos_6[num4+num5:num4+num5+num6]:\n",
        " # pos_6['Projected_Candidate'] = np.where(pos_6.Type == \"Early\", pos_6['Projected_Candidate']== 'Open Voters', pos_6['Projected_Candidate'])\n"
      ],
      "metadata": {
        "id": "MBmaTX_bUrDa"
      },
      "execution_count": null,
      "outputs": []
    },
    {
      "cell_type": "code",
      "source": [
        "print(num2+num5)"
      ],
      "metadata": {
        "colab": {
          "base_uri": "https://localhost:8080/"
        },
        "id": "1gDS7KpWaF__",
        "outputId": "4a07a8b4-76b0-4757-90a1-d96833fb1783"
      },
      "execution_count": null,
      "outputs": [
        {
          "output_type": "stream",
          "name": "stdout",
          "text": [
            "1068\n"
          ]
        }
      ]
    },
    {
      "cell_type": "code",
      "source": [
        "pos_6['Projected_Candidate'] = 1\n",
        "for i in pos_6.Type:\n",
        " if i == 'Mail':\n",
        "   pos_6['Projected_Candidate'][:num1] = 'Kendall Baker'\n",
        "   pos_6['Projected_Candidate'][num1:num2+num1] = 'Holly Flynn'\n",
        "   pos_6['Projected_Candidate'][num2+num1:num3+num2+num1] = 'Open voters'\n",
        "for i in pos_6.Type:\n",
        "  if i == 'Early':\n",
        "   pos_6['Projected_Candidate'][:num4] = 'Kendall Baker'\n",
        "   pos_6['Projected_Candidate'][num4:num4+num5] = 'Holly Flynn'\n",
        "   pos_6['Projected_Candidate'][num4+num5:num6+num4+num5] = 'Open voters'"
      ],
      "metadata": {
        "colab": {
          "base_uri": "https://localhost:8080/"
        },
        "id": "uYGqxZreBP6K",
        "outputId": "6a05601e-79a8-4e1e-9f21-7fe5452dff4d"
      },
      "execution_count": null,
      "outputs": [
        {
          "output_type": "stream",
          "name": "stderr",
          "text": [
            "/usr/local/lib/python3.7/dist-packages/ipykernel_launcher.py:4: SettingWithCopyWarning: \n",
            "A value is trying to be set on a copy of a slice from a DataFrame\n",
            "\n",
            "See the caveats in the documentation: https://pandas.pydata.org/pandas-docs/stable/user_guide/indexing.html#returning-a-view-versus-a-copy\n",
            "  after removing the cwd from sys.path.\n",
            "/usr/local/lib/python3.7/dist-packages/ipykernel_launcher.py:5: SettingWithCopyWarning: \n",
            "A value is trying to be set on a copy of a slice from a DataFrame\n",
            "\n",
            "See the caveats in the documentation: https://pandas.pydata.org/pandas-docs/stable/user_guide/indexing.html#returning-a-view-versus-a-copy\n",
            "  \"\"\"\n",
            "/usr/local/lib/python3.7/dist-packages/ipykernel_launcher.py:6: SettingWithCopyWarning: \n",
            "A value is trying to be set on a copy of a slice from a DataFrame\n",
            "\n",
            "See the caveats in the documentation: https://pandas.pydata.org/pandas-docs/stable/user_guide/indexing.html#returning-a-view-versus-a-copy\n",
            "  \n",
            "/usr/local/lib/python3.7/dist-packages/ipykernel_launcher.py:9: SettingWithCopyWarning: \n",
            "A value is trying to be set on a copy of a slice from a DataFrame\n",
            "\n",
            "See the caveats in the documentation: https://pandas.pydata.org/pandas-docs/stable/user_guide/indexing.html#returning-a-view-versus-a-copy\n",
            "  if __name__ == '__main__':\n",
            "/usr/local/lib/python3.7/dist-packages/ipykernel_launcher.py:10: SettingWithCopyWarning: \n",
            "A value is trying to be set on a copy of a slice from a DataFrame\n",
            "\n",
            "See the caveats in the documentation: https://pandas.pydata.org/pandas-docs/stable/user_guide/indexing.html#returning-a-view-versus-a-copy\n",
            "  # Remove the CWD from sys.path while we load stuff.\n",
            "/usr/local/lib/python3.7/dist-packages/ipykernel_launcher.py:11: SettingWithCopyWarning: \n",
            "A value is trying to be set on a copy of a slice from a DataFrame\n",
            "\n",
            "See the caveats in the documentation: https://pandas.pydata.org/pandas-docs/stable/user_guide/indexing.html#returning-a-view-versus-a-copy\n",
            "  # This is added back by InteractiveShellApp.init_path()\n"
          ]
        }
      ]
    },
    {
      "cell_type": "code",
      "source": [
        ""
      ],
      "metadata": {
        "id": "2OfLpeSpP6hl"
      },
      "execution_count": null,
      "outputs": []
    },
    {
      "cell_type": "code",
      "source": [
        "pos_6[pos_6.Projected_Candidate == 1]['Type'].value_counts()"
      ],
      "metadata": {
        "colab": {
          "base_uri": "https://localhost:8080/"
        },
        "id": "ZAol1qkAQZdn",
        "outputId": "0ce9c05a-6c18-4873-a1a7-3fe96ce41c99"
      },
      "execution_count": null,
      "outputs": [
        {
          "output_type": "execute_result",
          "data": {
            "text/plain": [
              "Early    354\n",
              "Name: Type, dtype: int64"
            ]
          },
          "metadata": {},
          "execution_count": 955
        }
      ]
    },
    {
      "cell_type": "code",
      "source": [
        "pos_6.Projected_Candidate.value_counts()"
      ],
      "metadata": {
        "colab": {
          "base_uri": "https://localhost:8080/"
        },
        "id": "J2d74_NxXIh9",
        "outputId": "11eae61a-c5ef-4798-ba04-94cb0d3b548d"
      },
      "execution_count": null,
      "outputs": [
        {
          "output_type": "execute_result",
          "data": {
            "text/plain": [
              "Holly Flynn      1068\n",
              "Kendall Baker     354\n",
              "1                 354\n",
              "Open voters       353\n",
              "Name: Projected_Candidate, dtype: int64"
            ]
          },
          "metadata": {},
          "execution_count": 956
        }
      ]
    },
    {
      "cell_type": "code",
      "source": [
        "pos_6['Type'].value_counts()"
      ],
      "metadata": {
        "id": "f_2byLwmP634"
      },
      "execution_count": null,
      "outputs": []
    },
    {
      "cell_type": "code",
      "source": [
        "pos_6[pos_6['Type']=='Early'].Projected_Candidate.value_counts()"
      ],
      "metadata": {
        "id": "u6JVvpx1TeyY"
      },
      "execution_count": null,
      "outputs": []
    },
    {
      "cell_type": "code",
      "source": [
        ""
      ],
      "metadata": {
        "id": "lJ8LmIsDSIwS"
      },
      "execution_count": null,
      "outputs": []
    },
    {
      "cell_type": "code",
      "source": [
        "print(num)\n",
        "print(num2)\n",
        "print(num3)\n",
        "print(num4)\n",
        "print(sum([num1,num2,num3,num4,num5,num6]))"
      ],
      "metadata": {
        "id": "DXNzDVsI3gOA"
      },
      "execution_count": null,
      "outputs": []
    },
    {
      "cell_type": "code",
      "source": [
        "354*2"
      ],
      "metadata": {
        "id": "PLsFoJm6AH9a"
      },
      "execution_count": null,
      "outputs": []
    },
    {
      "cell_type": "code",
      "source": [
        "#pos_6['Projected_Candidate'][:707] = 'Kendall Baker'\n",
        "#pos_6['Projected_Candidate'][707:707+1068] = 'Holly Flynn'\n",
        "#pos_6['Projected_Candidate'][707+1068:] = 'Other voters'"
      ],
      "metadata": {
        "id": "VYfaXMWi_5kk"
      },
      "execution_count": null,
      "outputs": []
    },
    {
      "cell_type": "code",
      "source": [
        ""
      ],
      "metadata": {
        "id": "HnEEpGWUzrgz"
      },
      "execution_count": null,
      "outputs": []
    },
    {
      "cell_type": "code",
      "source": [
        "pos_6.head()"
      ],
      "metadata": {
        "id": "M0gTRRUnzrdk"
      },
      "execution_count": null,
      "outputs": []
    },
    {
      "cell_type": "code",
      "source": [
        ""
      ],
      "metadata": {
        "id": "1BqblEyvzrZU"
      },
      "execution_count": null,
      "outputs": []
    },
    {
      "cell_type": "code",
      "metadata": {
        "id": "BygkjaHP0lmI"
      },
      "source": [
        "pos_6.Type.value_counts()"
      ],
      "execution_count": null,
      "outputs": []
    },
    {
      "cell_type": "code",
      "metadata": {
        "id": "safdQMBYHs8m"
      },
      "source": [
        "pos_6.shape"
      ],
      "execution_count": null,
      "outputs": []
    },
    {
      "cell_type": "code",
      "metadata": {
        "id": "QReODbBCo3Tq"
      },
      "source": [
        "pos_6.to_csv('/content/drive/MyDrive/Quetzal Data/Kendal Baker Campaign/December 9th/Dec_9_Plus.csv')"
      ],
      "execution_count": null,
      "outputs": []
    }
  ]
}